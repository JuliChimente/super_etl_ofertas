{
 "cells": [
  {
   "attachments": {},
   "cell_type": "markdown",
   "metadata": {},
   "source": [
    "## Importacion de librerias"
   ]
  },
  {
   "cell_type": "code",
   "execution_count": 12,
   "metadata": {},
   "outputs": [],
   "source": [
    "import pandas as pd\n",
    "from bs4 import BeautifulSoup\n",
    "import openpyxl\n",
    "from selenium import webdriver\n",
    "from selenium.webdriver.common.by import By\n",
    "from selenium.webdriver.support.ui import WebDriverWait\n",
    "from selenium.webdriver.support import expected_conditions as EC\n",
    "from selenium.webdriver.chrome.options import Options as ChromeOptions\n",
    "from selenium.webdriver.firefox.options import Options as FirefoxOptions\n",
    "from selenium.webdriver.edge.options import Options as EdgeOptions\n"
   ]
  },
  {
   "attachments": {},
   "cell_type": "markdown",
   "metadata": {},
   "source": [
    "## Funcion de recoleccion de datos"
   ]
  },
  {
   "cell_type": "code",
   "execution_count": 13,
   "metadata": {},
   "outputs": [],
   "source": [
    "def obtener_ofertas(supermercados, productos_lista):\n",
    "    lista_super_prod_baratos = pd.DataFrame(columns=['supermercado','nombre','precio','promo','url'])\n",
    "    \n",
    "    for lista in productos_lista:\n",
    "        lista_productos = []  # Lista para almacenar los precios del supermercado actual\n",
    "        for super in supermercados:\n",
    "            # Configurar el driver de Selenium y cargar la página web\n",
    "            browser = \"chrome\"  # Puedes cambiar esto al navegador que desees utilizar\n",
    "\n",
    "            if browser == \"chrome\":\n",
    "                options = ChromeOptions()\n",
    "                options.add_argument(\"--start-minimized\")\n",
    "                driver = webdriver.Chrome(options=options)\n",
    "            elif browser == \"firefox\":\n",
    "                options = FirefoxOptions()\n",
    "                options.add_argument(\"--start-minimized\")\n",
    "                driver = webdriver.Firefox(options=options)\n",
    "            elif browser == \"edge\":\n",
    "                options = EdgeOptions()\n",
    "                options.add_argument(\"--start-minimized\")\n",
    "                driver = webdriver.Edge(options=options)\n",
    "            else:\n",
    "                raise ValueError(\"Navegador no soportado\")\n",
    "            \n",
    "            lista.replace(\" \",\"%20\")\n",
    "            \n",
    "            driver.get(f'{super}{lista}{\"?order=OrderByPriceASC\"}')\n",
    "\n",
    "            super = super.split('.')[1].upper()\n",
    "\n",
    "            # Esperar hasta que el elemento sea visible\n",
    "            wait = WebDriverWait(driver, 7)\n",
    "            \n",
    "            if \"SUPERMERCADOSDIA\" in super:\n",
    "                elemento = wait.until(EC.visibility_of_element_located((By.CSS_SELECTOR, 'span.vtex-product-price-1-x-currencyContainer')))\n",
    "            else:\n",
    "                elemento = wait.until(EC.visibility_of_element_located((By.CSS_SELECTOR, 'div.contenedor-precio')))\n",
    "    \n",
    "            # Obtener el contenido de la página web con BeautifulSoup\n",
    "            soup = BeautifulSoup(driver.page_source, 'html.parser')\n",
    "            \n",
    "            # Obtenemos todos los elementos contenedores de productos\n",
    "            if \"SUPERMERCADOSDIA\" in super:\n",
    "                productos = soup.find('div', {'class': 'vtex-search-result-3-x-galleryItem vtex-search-result-3-x-galleryItem--normal vtex-search-result-3-x-galleryItem--default pa4'})\n",
    "            else:\n",
    "                productos = soup.find('div', {'class': 'vtex-search-result-3-x-galleryItem vtex-search-result-3-x-galleryItem--normal vtex-search-result-3-x-galleryItem--grid pa4'})\n",
    "\n",
    "            # Guardamos el nombre de los productos\n",
    "            nombre = productos.find('span', {'class': 'vtex-product-summary-2-x-productBrand vtex-product-summary-2-x-brandName t-body'}).text.strip()\n",
    "        \n",
    "            # Su precio\n",
    "            \n",
    "            if \"JUMBO\" in super or \"VEA\" in super or \"DISCO\" in super:\n",
    "                try:\n",
    "                    precio = productos.find('div', {'class': 'contenedor-precio'}).span.text\n",
    "                except AttributeError:\n",
    "                    precio = productos.find('p', {'class': 'jumboargentinaio-store-theme-2HGAKpUDWMGu8a66aeeQ56'}).text.strip()\n",
    "                    partes = precio.split('$')\n",
    "                    precio = f'${partes[1]}'\n",
    "            else:   \n",
    "                precio = productos.find('span', {'class': 'vtex-product-price-1-x-currencyContainer'}).text.strip()\n",
    "                \n",
    "            if \"VEA\" in super:\n",
    "                try:\n",
    "                    # Promo Vea %OFF\n",
    "                    promo = productos.find('span', {'class': 'veaargentina-store-theme-2Vrhf80fWpMRRgLq5y0ZoI'}).text.strip()\n",
    "                except AttributeError:\n",
    "                    try:\n",
    "                        # Promo Vea 2x1, 50% Off 2da U, etc.\n",
    "                        tipo_promo = productos.find('span', {'class': 'veaargentina-store-theme-1vId-Z5l1K6K82ho-1PHy6'}).text.strip()\n",
    "                        precio_promo = productos.find('p', {'class': 'veaargentina-store-theme-2_zxmjIkZPLRBSyGn8OWpv vtex-promotionDisclaimerText'}).text.strip()\n",
    "                        promo = f'{tipo_promo} {precio_promo}'\n",
    "                    except AttributeError:\n",
    "                        promo = 'No tiene promo'\n",
    "                    \n",
    "            elif \"JUMBO\" in super:       \n",
    "                try:\n",
    "                    # Promo Jumbo %OFF\n",
    "                    promo = productos.find('span', {'class': 'jumboargentinaio-store-theme-2Vrhf80fWpMRRgLq5y0ZoI'}).text.strip()\n",
    "                except AttributeError:\n",
    "                    try:\n",
    "                        # Promo Jumbo 2x1, 50% Off 2da U, etc.\n",
    "                        tipo_promo = productos.find('span', {'class': 'jumboargentinaio-store-theme-1fq_v5Ru2hmjMCzmx6XC_E'}).text.strip()\n",
    "                        precio_promo = productos.find('p', {'class': 'jumboargentinaio-store-theme-2_zxmjIkZPLRBSyGn8OWpv vtex-promotionDisclaimerText'}).text.strip()\n",
    "                        promo = f'{tipo_promo} {precio_promo}'\n",
    "                    except AttributeError:\n",
    "                        try:\n",
    "                            # 35% OFF con PRIME\n",
    "                            promo = productos.find('span', {'class': 'jumboargentinaio-store-theme-2tHhEXdEDr-Nq08rzYO7i2'}).text.strip()\n",
    "                        except AttributeError:\n",
    "                            promo = 'No tiene promo'\n",
    "            elif \"DISCO\" in super:\n",
    "                try:\n",
    "                    # Promo Disco %OFF\n",
    "                    promo = productos.find('span', {'class': 'discoargentina-store-theme-tha9pV36seWfdnuHGKz68'}).text.strip()\n",
    "                except AttributeError:\n",
    "                    try:\n",
    "                        # Promo Dia 2x1, 50% Off 2da U, etc.\n",
    "                        tipo_promo = productos.find('span', {'class': 'discoargentina-store-theme-1fq_v5Ru2hmjMCzmx6XC_E'}).text.strip()\n",
    "                        precio_promo = productos.find('p', {'class': 'discoargentina-store-theme-2_zxmjIkZPLRBSyGn8OWpv vtex-promotionDisclaimerText'}).text.strip()\n",
    "                        promo = f'{tipo_promo} {precio_promo}'\n",
    "                    except AttributeError:\n",
    "                        try:\n",
    "                            # 35% OFF con PRIME\n",
    "                            promo = productos.find('span', {'class': 'discoargentina-store-theme-2tHhEXdEDr-Nq08rzYO7i2'}).text.strip()\n",
    "                        except AttributeError:\n",
    "                                promo = 'No tiene promo'\n",
    "            elif \"SUPERMERCADOSDIA\" in super:\n",
    "                try:\n",
    "                    # Promo Dia %OFF\n",
    "                    promo = productos.find('span', {'class': 'vtex-product-price-1-x-savingsPercentage vtex-product-price-1-x-savingsPercentage--pdp'}).text.strip()\n",
    "                except AttributeError:\n",
    "                    try:\n",
    "                        # Promo Dia 2x1, 50% Off 2da U, etc.\n",
    "                        promo = productos.find('span', {'class': 'vtex-product-highlights-2-x-productHighlightText vtex-product-highlights-2-x-productHighlightText--promotions'}).text.strip()\n",
    "                    except AttributeError:\n",
    "                        promo = 'No tiene promo'\n",
    "            \n",
    "            url = productos.find('a', {'class': 'vtex-product-summary-2-x-clearLink'})['href']\n",
    "            \n",
    "            precio = precio.replace('.', '')\n",
    "            \n",
    "            precio = precio.replace(',', '.')\n",
    "            \n",
    "            precio = precio.replace('$', '')\n",
    "            \n",
    "            precio = float(precio)\n",
    "            \n",
    "            producto_dict = {\n",
    "                'supermercado': super,\n",
    "                'nombre': nombre,\n",
    "                'precio': precio,\n",
    "                'promo': promo,\n",
    "                'url': url\n",
    "            }\n",
    "\n",
    "            # Agregar el diccionario a la lista\n",
    "            lista_productos.append(producto_dict)\n",
    "\n",
    "            # Lista de los productos mas baratos por supermercado\n",
    "            productos_baratos_x_super = pd.DataFrame(lista_productos)\n",
    "            \n",
    "            lista_super_prod_baratos = pd.concat([lista_super_prod_baratos, productos_baratos_x_super], ignore_index=True)\n",
    "        \n",
    "    # Eliminar filas duplicadas basadas en todas las columnas del DataFrame\n",
    "    lista_super_prod_baratos = lista_super_prod_baratos.drop_duplicates()\n",
    "                \n",
    "    return lista_super_prod_baratos"
   ]
  },
  {
   "attachments": {},
   "cell_type": "markdown",
   "metadata": {},
   "source": [
    "## Productos y Supermercados"
   ]
  },
  {
   "cell_type": "code",
   "execution_count": 14,
   "metadata": {},
   "outputs": [],
   "source": [
    "# Lista de productos\n",
    "productos_lista = ['arroz 500grs', 'yerba mate rosamonte', \"leche 1 lts\", \"rollo de papel para cocina\"]\n",
    "\n",
    "# URL del supermercados\n",
    "supermercados = ['https://www.vea.com.ar/','https://www.disco.com.ar/','https://www.jumbo.com.ar/','https://diaonline.supermercadosdia.com.ar/']"
   ]
  },
  {
   "attachments": {},
   "cell_type": "markdown",
   "metadata": {},
   "source": [
    "## Obtenemos el DF"
   ]
  },
  {
   "cell_type": "code",
   "execution_count": 15,
   "metadata": {},
   "outputs": [],
   "source": [
    "ofertas_super = obtener_ofertas(supermercados, productos_lista)"
   ]
  },
  {
   "attachments": {},
   "cell_type": "markdown",
   "metadata": {},
   "source": [
    "## Supermercado con los mejores precios"
   ]
  },
  {
   "cell_type": "code",
   "execution_count": 16,
   "metadata": {},
   "outputs": [],
   "source": [
    "# Calcular la suma de los precios por cada supermercado\n",
    "df_suma_precios = ofertas_super.groupby('supermercado')['precio'].sum().reset_index()\n",
    "\n",
    "# Encontrar el supermercado con el menor precio total\n",
    "supermercado_menor_precio = df_suma_precios.loc[df_suma_precios['precio'].idxmin(), 'supermercado']\n",
    "\n",
    "# Filtrar el DataFrame original para obtener las filas del supermercado con el menor precio total\n",
    "df_filtrado = ofertas_super[ofertas_super['supermercado'] == supermercado_menor_precio]\n",
    "\n",
    "# Crear un nuevo DataFrame con las filas filtradas\n",
    "menor_precio_x_supermercado = pd.DataFrame(df_filtrado)\n",
    "\n",
    "# Función lambda para formatear los valores como moneda\n",
    "formato_moneda = lambda x: f'${x:.2f}'\n",
    "\n",
    "# Aplicar la función lambda a la columna 'Precio'\n",
    "menor_precio_x_supermercado['precio'] = menor_precio_x_supermercado['precio'].map(formato_moneda)"
   ]
  },
  {
   "attachments": {},
   "cell_type": "markdown",
   "metadata": {},
   "source": [
    "## Lista con los mejores precios"
   ]
  },
  {
   "cell_type": "code",
   "execution_count": 17,
   "metadata": {},
   "outputs": [],
   "source": [
    "# Obtener el índice del producto más barato para cada producto único\n",
    "indices_menor_precio = ofertas_super.groupby(ofertas_super['nombre'].str.split().str[0])['precio'].idxmin()\n",
    "\n",
    "# Obtener el DataFrame con los productos más baratos\n",
    "productos_mas_baratos = ofertas_super.loc[indices_menor_precio]\n",
    "\n",
    "# Función lambda para formatear los valores como moneda\n",
    "formato_moneda = lambda x: f'${x:.2f}'\n",
    "\n",
    "# Aplicar la función lambda a la columna 'Precio'\n",
    "productos_mas_baratos['precio'] = productos_mas_baratos['precio'].map(formato_moneda)"
   ]
  },
  {
   "attachments": {},
   "cell_type": "markdown",
   "metadata": {},
   "source": [
    "## Guardamos los resultados en formato Excel"
   ]
  },
  {
   "cell_type": "code",
   "execution_count": 18,
   "metadata": {},
   "outputs": [],
   "source": [
    "# Crear un archivo de Excel\n",
    "nombre_archivo = 'ofertas_supermercado.xlsx'\n",
    "writer = pd.ExcelWriter(nombre_archivo, engine='openpyxl')\n",
    "\n",
    "# Guardar el DataFrame 1 en una hoja con nombre 'Hoja1'\n",
    "menor_precio_x_supermercado.to_excel(writer, sheet_name='Super con menor precio', index=False)\n",
    "\n",
    "# Guardar el DataFrame 2 en una hoja con nombre 'Hoja2'\n",
    "productos_mas_baratos.to_excel(writer, sheet_name='Productos con menor precio', index=False)\n",
    "\n",
    "# Guardar los cambios y cerrar el archivo\n",
    "writer.book.save(nombre_archivo)\n",
    "writer.close()"
   ]
  }
 ],
 "metadata": {
  "kernelspec": {
   "display_name": "Python 3",
   "language": "python",
   "name": "python3"
  },
  "language_info": {
   "codemirror_mode": {
    "name": "ipython",
    "version": 3
   },
   "file_extension": ".py",
   "mimetype": "text/x-python",
   "name": "python",
   "nbconvert_exporter": "python",
   "pygments_lexer": "ipython3",
   "version": "3.9.0"
  },
  "orig_nbformat": 4
 },
 "nbformat": 4,
 "nbformat_minor": 2
}
